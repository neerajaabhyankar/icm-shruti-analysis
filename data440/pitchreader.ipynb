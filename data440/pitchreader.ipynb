{
 "cells": [
  {
   "cell_type": "markdown",
   "id": "d6d4bb24",
   "metadata": {},
   "source": [
    "### Imports"
   ]
  },
  {
   "cell_type": "code",
   "execution_count": null,
   "id": "e03f7c2d",
   "metadata": {},
   "outputs": [],
   "source": [
    "import os\n",
    "import numpy as np\n",
    "import pandas as pd\n",
    "import matplotlib.pyplot as plt\n",
    "import plotly.express as px\n",
    "import librosa\n",
    "from IPython.display import Audio as ipy_audio"
   ]
  },
  {
   "cell_type": "markdown",
   "id": "0f2db9b8",
   "metadata": {},
   "source": [
    "### Audio"
   ]
  },
  {
   "cell_type": "code",
   "execution_count": null,
   "id": "c67c5700",
   "metadata": {},
   "outputs": [],
   "source": [
    "chalan_file = \"PuriyaD440.mp3\""
   ]
  },
  {
   "cell_type": "code",
   "execution_count": null,
   "id": "77d2045d",
   "metadata": {},
   "outputs": [],
   "source": [
    "# y = audio as a waveform\n",
    "# sr = sampling rate\n",
    "chalan_y, chalan_sr = librosa.load(chalan_file)"
   ]
  },
  {
   "cell_type": "code",
   "execution_count": null,
   "id": "34a5f51b",
   "metadata": {},
   "outputs": [],
   "source": [
    "len(chalan_y)"
   ]
  },
  {
   "cell_type": "markdown",
   "id": "025dec2b",
   "metadata": {
    "heading_collapsed": true
   },
   "source": [
    "### Spectrogram"
   ]
  },
  {
   "cell_type": "code",
   "execution_count": null,
   "id": "22c87a37",
   "metadata": {
    "hidden": true
   },
   "outputs": [],
   "source": [
    "D = librosa.stft(chalan_y)\n",
    "S_db = librosa.amplitude_to_db(np.abs(D), ref=np.max)\n",
    "\n",
    "plt.figure().set_figwidth(12)\n",
    "librosa.display.specshow(S_db, x_axis=\"time\", y_axis=\"hz\", bins_per_octave=22)\n",
    "plt.colorbar()"
   ]
  },
  {
   "cell_type": "markdown",
   "id": "2f140f4a",
   "metadata": {},
   "source": [
    "### DFT"
   ]
  },
  {
   "cell_type": "code",
   "execution_count": null,
   "id": "3149a4e4",
   "metadata": {},
   "outputs": [],
   "source": [
    "input_y = chalan_y[2163000:2175000]"
   ]
  },
  {
   "cell_type": "code",
   "execution_count": null,
   "id": "8eb35465",
   "metadata": {},
   "outputs": [],
   "source": [
    "ipy_audio(data=input_y, rate=chalan_sr)"
   ]
  },
  {
   "cell_type": "code",
   "execution_count": null,
   "id": "125744cf",
   "metadata": {},
   "outputs": [],
   "source": [
    "# calculate the DFT\n",
    "window = np.hanning(len(input_y))\n",
    "input_windowed = input_y * window\n",
    "dft = np.fft.rfft(input_windowed)"
   ]
  },
  {
   "cell_type": "code",
   "execution_count": null,
   "id": "4d3c27df",
   "metadata": {},
   "outputs": [],
   "source": [
    "# get the amplitude spectrum in decibels\n",
    "amplitude = np.abs(dft)\n",
    "amplitude_db = librosa.amplitude_to_db(amplitude, ref=np.max)"
   ]
  },
  {
   "cell_type": "code",
   "execution_count": null,
   "id": "7f79f48e",
   "metadata": {},
   "outputs": [],
   "source": [
    "fig = px.line(\n",
    "    pd.DataFrame({\"frequency\": np.arange(len(amplitude_db)), \"dB\": amplitude_db}), x=\"frequency\", y=\"dB\"\n",
    ")\n",
    "fig.update_traces(hovertemplate=\"F bin: %{x}<br>amplitude: %{y}\")\n",
    "fig.show()"
   ]
  },
  {
   "cell_type": "code",
   "execution_count": null,
   "id": "8716d583",
   "metadata": {},
   "outputs": [],
   "source": [
    "# get the frequency bin\n",
    "frequency = librosa.fft_frequencies(\n",
    "    sr=chalan_sr, n_fft=len(input_y)\n",
    ")"
   ]
  },
  {
   "cell_type": "code",
   "execution_count": null,
   "id": "c2400f48",
   "metadata": {},
   "outputs": [],
   "source": [
    "frequency[189]"
   ]
  },
  {
   "cell_type": "code",
   "execution_count": null,
   "id": "d81db236",
   "metadata": {},
   "outputs": [],
   "source": []
  },
  {
   "cell_type": "code",
   "execution_count": null,
   "id": "1bbe31a8",
   "metadata": {},
   "outputs": [],
   "source": []
  },
  {
   "cell_type": "markdown",
   "id": "eaf0fbc9",
   "metadata": {},
   "source": [
    "### Bookkeeping"
   ]
  },
  {
   "cell_type": "code",
   "execution_count": null,
   "id": "bf13c083",
   "metadata": {},
   "outputs": [],
   "source": [
    "raag = \"PuriyaD\"\n",
    "swar_bites = {\n",
    "    \"S\": (30000, 50000),\n",
    "    \"r\": (250000, 300000),\n",
    "    \"G\": (550000, 570000),\n",
    "    \"m\": (1545000, 1555000),\n",
    "    \"P\": (1520000, 1530000),\n",
    "    \"d\": (2163000, 2175000),\n",
    "    \"N\": (1795000, 1805000),\n",
    "}\n",
    "# save file to <raag>.json"
   ]
  },
  {
   "cell_type": "code",
   "execution_count": null,
   "id": "62a7b84d",
   "metadata": {},
   "outputs": [],
   "source": [
    "import json"
   ]
  },
  {
   "cell_type": "code",
   "execution_count": null,
   "id": "9be44d70",
   "metadata": {},
   "outputs": [],
   "source": [
    "with open(f\"{raag}_swar_bites.json\", \"w\") as fp:\n",
    "    fp.write(json.dumps(swar_bites))"
   ]
  },
  {
   "cell_type": "code",
   "execution_count": null,
   "id": "2d1cd886",
   "metadata": {},
   "outputs": [],
   "source": []
  }
 ],
 "metadata": {
  "kernelspec": {
   "display_name": "Python 3 (ipykernel)",
   "language": "python",
   "name": "python3"
  },
  "language_info": {
   "codemirror_mode": {
    "name": "ipython",
    "version": 3
   },
   "file_extension": ".py",
   "mimetype": "text/x-python",
   "name": "python",
   "nbconvert_exporter": "python",
   "pygments_lexer": "ipython3",
   "version": "3.8.9"
  }
 },
 "nbformat": 4,
 "nbformat_minor": 5
}
