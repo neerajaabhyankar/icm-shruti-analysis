{
 "cells": [
  {
   "cell_type": "markdown",
   "id": "3ddb2328",
   "metadata": {},
   "source": [
    "# Imports"
   ]
  },
  {
   "cell_type": "markdown",
   "id": "8a1d0907",
   "metadata": {},
   "source": [
    "Clone and install https://github.com/MTG/pycompmusic"
   ]
  },
  {
   "cell_type": "markdown",
   "id": "3ad8909a",
   "metadata": {},
   "source": [
    "Download data using `download-dunya.py`"
   ]
  },
  {
   "cell_type": "code",
   "execution_count": null,
   "id": "3efe71f5",
   "metadata": {},
   "outputs": [],
   "source": [
    "import json, os, sys\n",
    "import pickle, csv\n",
    "import time\n",
    "import datetime\n",
    "import collections\n",
    "\n",
    "import numpy as np\n",
    "import pandas as pd\n",
    "import matplotlib.pyplot as plt\n",
    "import matplotlib.ticker as ticker\n",
    "import plotly.express as px\n",
    "\n",
    "import scipy\n",
    "import librosa\n",
    "from IPython.display import Audio as ipy_audio"
   ]
  },
  {
   "cell_type": "markdown",
   "id": "5798e7f5",
   "metadata": {},
   "source": [
    "# Data"
   ]
  },
  {
   "cell_type": "code",
   "execution_count": null,
   "id": "2f7e4008",
   "metadata": {},
   "outputs": [],
   "source": [
    "data_dir = \"/Users/neerajaabhyankar/Repos/icm-shruti-analysis/data-dunya-hindustani/\""
   ]
  },
  {
   "cell_type": "code",
   "execution_count": null,
   "id": "5ff4ad9d",
   "metadata": {},
   "outputs": [],
   "source": [
    "track = \"Omkar Dadarkar - Raag Bhoopali\""
   ]
  },
  {
   "cell_type": "code",
   "execution_count": null,
   "id": "b7550325",
   "metadata": {},
   "outputs": [],
   "source": [
    "audio_file = track + \".mp3\"\n",
    "metadata_file = track + \".json\"\n",
    "tonic_file = track + \".ctonic.txt\"\n",
    "pitch_file = track + \".pitch.txt\""
   ]
  },
  {
   "cell_type": "markdown",
   "id": "d2cc384f",
   "metadata": {},
   "source": [
    "Metadata + Tonic"
   ]
  },
  {
   "cell_type": "code",
   "execution_count": null,
   "id": "50366fb2",
   "metadata": {},
   "outputs": [],
   "source": [
    "with open(data_dir + metadata_file) as json_data:\n",
    "    metadata = json.load(json_data)\n",
    "\n",
    "tonic = float(np.loadtxt(data_dir + tonic_file))"
   ]
  },
  {
   "cell_type": "code",
   "execution_count": null,
   "id": "0292cfdd",
   "metadata": {},
   "outputs": [],
   "source": [
    "print(f\"length = {metadata['length']/1000} seconds\")\n",
    "print(f\"base tonic = {tonic}\")"
   ]
  },
  {
   "cell_type": "markdown",
   "id": "e5df617a",
   "metadata": {},
   "source": [
    "Audio File"
   ]
  },
  {
   "cell_type": "code",
   "execution_count": null,
   "id": "f2cae24e",
   "metadata": {},
   "outputs": [],
   "source": [
    "# y, sr = librosa.load(data_dir + audio_file)\n",
    "# ipy_audio(data=y, rate=sr)"
   ]
  },
  {
   "cell_type": "markdown",
   "metadata": {},
   "source": [
    "Spectrogram"
   ]
  },
  {
   "cell_type": "code",
   "execution_count": null,
   "id": "e6f32c69",
   "metadata": {},
   "outputs": [],
   "source": [
    "# D = librosa.stft(y)\n",
    "# S_db = librosa.amplitude_to_db(np.abs(D), ref=np.max)\n",
    "\n",
    "# plt.figure().set_figwidth(12)\n",
    "# librosa.display.specshow(S_db, x_axis=\"time\", y_axis=\"hz\", bins_per_octave=22)\n",
    "# plt.colorbar()"
   ]
  },
  {
   "cell_type": "markdown",
   "id": "181d7349",
   "metadata": {},
   "source": [
    "Pitch Annotations"
   ]
  },
  {
   "cell_type": "code",
   "execution_count": null,
   "id": "75ce49f9",
   "metadata": {},
   "outputs": [],
   "source": [
    "pitch_annotations = []\n",
    "with open(data_dir + pitch_file) as pf:\n",
    "    for line in pf:\n",
    "        pitch_annotations.append(line.split())\n",
    "pitch_annotations = np.array(pitch_annotations).astype(float)"
   ]
  },
  {
   "cell_type": "code",
   "execution_count": null,
   "id": "be563a21",
   "metadata": {},
   "outputs": [],
   "source": [
    "aps = int(pitch_annotations.shape[0]/metadata['length']*1000)\n",
    "print(f\"{aps} annotations per second\")"
   ]
  },
  {
   "cell_type": "code",
   "execution_count": null,
   "id": "ba88527d",
   "metadata": {},
   "outputs": [],
   "source": []
  },
  {
   "cell_type": "markdown",
   "id": "7bf4abcb",
   "metadata": {},
   "source": [
    "# Validating Pitch Annotations"
   ]
  },
  {
   "cell_type": "markdown",
   "id": "0f9a2c8a",
   "metadata": {},
   "source": [
    "Take a representative sample"
   ]
  },
  {
   "cell_type": "code",
   "execution_count": null,
   "id": "0f795c45",
   "metadata": {},
   "outputs": [],
   "source": [
    "# 06:45 to 07:00\n",
    "start = 6*60+45\n",
    "end = 7*60\n",
    "\n",
    "y_small = y[start*sr:end*sr]\n",
    "pa_small = pitch_annotations[start*aps:end*aps, 1]"
   ]
  },
  {
   "cell_type": "code",
   "execution_count": null,
   "id": "6f5cb970",
   "metadata": {},
   "outputs": [],
   "source": [
    "# downsample so as to make clearer tones\n",
    "downsample_factor = 25\n",
    "pa_small_d = pa_small[::downsample_factor]"
   ]
  },
  {
   "cell_type": "code",
   "execution_count": null,
   "id": "8d38eeba",
   "metadata": {},
   "outputs": [],
   "source": [
    "# create a waveform\n",
    "y_pa_small = []\n",
    "for anno in pa_small_d:\n",
    "    tone = librosa.tone(2*anno, sr=sr, length=downsample_factor*sr/aps)\n",
    "    y_pa_small += tone.tolist()\n",
    "\n",
    "print(\"annotaion-generated sample\")\n",
    "ipy_audio(data=y_pa_small, rate=sr)"
   ]
  },
  {
   "cell_type": "code",
   "execution_count": null,
   "id": "18f83bcb",
   "metadata": {},
   "outputs": [],
   "source": [
    "print(\"original sample\")\n",
    "ipy_audio(data=y_small, rate=sr)"
   ]
  },
  {
   "cell_type": "code",
   "execution_count": null,
   "metadata": {},
   "outputs": [],
   "source": []
  },
  {
   "cell_type": "markdown",
   "id": "f96f7b5d",
   "metadata": {},
   "source": [
    "# TODO"
   ]
  },
  {
   "cell_type": "markdown",
   "id": "30164021",
   "metadata": {},
   "source": [
    "NEXT:\n",
    "1. refine the beat structure to 1/4\n",
    "2. auto-detect tempo chunks, break by tempo, and apply the prototype\n",
    "3. try some basic librosa pitch detection, see if it's better than the annotations, else just keep taking the mode over annotations\n",
    "3. now we have a real time-series in φ"
   ]
  },
  {
   "cell_type": "code",
   "execution_count": null,
   "metadata": {},
   "outputs": [],
   "source": []
  },
  {
   "cell_type": "markdown",
   "metadata": {},
   "source": [
    "Select a sample"
   ]
  },
  {
   "cell_type": "code",
   "execution_count": null,
   "metadata": {},
   "outputs": [],
   "source": [
    "# 06:45 to 07:00\n",
    "start = 45*60+20\n",
    "end = 45*60+32\n",
    "\n",
    "y_small = y[start*sr:end*sr]\n",
    "pa_small = pitch_annotations[start*aps:end*aps, 1]"
   ]
  },
  {
   "cell_type": "code",
   "execution_count": null,
   "metadata": {},
   "outputs": [],
   "source": []
  },
  {
   "cell_type": "code",
   "execution_count": null,
   "id": "2e26e411",
   "metadata": {},
   "outputs": [],
   "source": [
    "tempo, beat_frames = librosa.beat.beat_track(y=y_small, sr=sr)\n",
    "beat_times = librosa.frames_to_time(beat_frames, sr=sr)"
   ]
  },
  {
   "cell_type": "code",
   "execution_count": null,
   "id": "ec22646b",
   "metadata": {},
   "outputs": [],
   "source": []
  },
  {
   "cell_type": "markdown",
   "metadata": {},
   "source": [
    "Temp: collapse to known swars"
   ]
  },
  {
   "cell_type": "code",
   "execution_count": null,
   "metadata": {},
   "outputs": [],
   "source": [
    "swar = {\n",
    "    \"D.\": 0.8362, \"S\": 0.997, \"R\": 1.11896, \"G\": 1.2565, \"P\": 1.501\n",
    "}\n",
    "swars = np.array(list(swar.values()))*tonic\n",
    "swars = np.concatenate((swars/2, swars, swars*2))"
   ]
  },
  {
   "cell_type": "code",
   "execution_count": null,
   "metadata": {},
   "outputs": [],
   "source": [
    "swar_small = []\n",
    "for pa in pa_small:\n",
    "    if pa == 0:\n",
    "        swar_small.append(0)\n",
    "    else:\n",
    "        idx = (np.abs(swars - pa)).argmin()\n",
    "        swar_small.append(swars[idx])\n",
    "\n",
    "# plt.plot(range(len(pa_small)), pa_small)\n",
    "# plt.plot(range(len(swar_small)), swar_small)"
   ]
  },
  {
   "cell_type": "code",
   "execution_count": null,
   "metadata": {},
   "outputs": [],
   "source": []
  },
  {
   "cell_type": "markdown",
   "metadata": {},
   "source": [
    "Note: the following won't scale! Just for now, looking at how the mode sounds"
   ]
  },
  {
   "cell_type": "code",
   "execution_count": null,
   "metadata": {},
   "outputs": [],
   "source": [
    "beat_swars = []\n",
    "y_swar_small = []\n",
    "for beat_idx in range(1, len(beat_times)):\n",
    "    beat_start = beat_times[beat_idx-1]\n",
    "    beat_end = beat_times[beat_idx]\n",
    "    swars_beat = swar_small[int(beat_start*aps):int(beat_end*aps)]\n",
    "    \n",
    "    idx = (np.abs(swars - scipy.stats.mode(swars_beat).mode)).argmin()\n",
    "    beat_swars.append(swars[idx])\n",
    "    \n",
    "    tone = librosa.tone(swars[idx], sr=sr, length=(beat_end-beat_start)*sr)\n",
    "    y_swar_small += tone.tolist()\n",
    "\n",
    "    "
   ]
  },
  {
   "cell_type": "code",
   "execution_count": null,
   "metadata": {},
   "outputs": [],
   "source": [
    "print(\"beat-wise swar-collapsed waveform\")\n",
    "ipy_audio(data=y_swar_small, rate=sr)"
   ]
  },
  {
   "cell_type": "code",
   "execution_count": null,
   "metadata": {},
   "outputs": [],
   "source": [
    "print(\"original sample\")\n",
    "ipy_audio(data=y_small, rate=sr)"
   ]
  },
  {
   "cell_type": "code",
   "execution_count": null,
   "metadata": {},
   "outputs": [],
   "source": []
  },
  {
   "cell_type": "markdown",
   "id": "cde15a16",
   "metadata": {},
   "source": [
    "# Manual Note Mode Finding"
   ]
  },
  {
   "cell_type": "markdown",
   "id": "83d02226",
   "metadata": {},
   "source": [
    "Pitch Histogram"
   ]
  },
  {
   "cell_type": "code",
   "execution_count": null,
   "id": "1a4438c3",
   "metadata": {},
   "outputs": [],
   "source": [
    "nz_annotations = pitch_annotations[np.where(pitch_annotations[:,1] != 0), 1][0]\n",
    "h = plt.hist(nz_annotations/tonic, bins=700)\n",
    "plt.xscale(\"log\")\n",
    "_ = plt.xlim(0.5, 3)\n",
    "\n",
    "counts = h[0]\n",
    "notes = (h[1][:-1]+h[1][1:])/2"
   ]
  },
  {
   "cell_type": "code",
   "execution_count": null,
   "id": "648cd39c",
   "metadata": {},
   "outputs": [],
   "source": [
    "fig = px.line(\n",
    "    pd.DataFrame({\"note\": notes, \"count\": counts}),\n",
    "    x=\"note\", y=\"count\",\n",
    "    log_x=True\n",
    ")\n",
    "# fig.update_layout(xaxis_range=[0.5, 3.1])\n",
    "fig.update_traces(hovertemplate=\"freq_ratio: %{x}<br>occurence: %{y}\")\n",
    "fig.show()"
   ]
  },
  {
   "cell_type": "markdown",
   "id": "bbbd3fb0",
   "metadata": {},
   "source": [
    "## TODO: Bunch nearby frequencies and do this automatically"
   ]
  },
  {
   "cell_type": "code",
   "execution_count": null,
   "id": "233e7314",
   "metadata": {},
   "outputs": [],
   "source": []
  },
  {
   "cell_type": "markdown",
   "id": "e58ff26c",
   "metadata": {},
   "source": [
    "# Manual Peak Finding Results"
   ]
  },
  {
   "cell_type": "markdown",
   "metadata": {},
   "source": [
    "Add counts to the list Below"
   ]
  },
  {
   "cell_type": "code",
   "execution_count": null,
   "id": "af8c6175",
   "metadata": {},
   "outputs": [],
   "source": [
    "raag = \"\"  # Omkar Dadarkar\n",
    "swar = {\n",
    "#     \"D.\": 0.8362,\n",
    "#     \"S\": 0.997,\n",
    "#     \"R\": 1.11896,\n",
    "#     \"G\": 1.2565,\n",
    "#     \"P\": 1.501,\n",
    "#     \"D\": 1.6843,  # may be lower\n",
    "#     \"S^\": 1.998,\n",
    "}"
   ]
  },
  {
   "cell_type": "code",
   "execution_count": null,
   "id": "6dfd0e24",
   "metadata": {},
   "outputs": [],
   "source": [
    "raag = \"Bhoopali\"  # Omkar Dadarkar\n",
    "swar = {\n",
    "    \"D.\": 0.8362,\n",
    "    \"S\": 0.997,\n",
    "    \"R\": 1.11896,\n",
    "    \"G\": 1.2565,\n",
    "    \"P\": 1.501,\n",
    "    \"D\": 1.6843,  # may be lower\n",
    "    \"S^\": 1.998,\n",
    "}"
   ]
  },
  {
   "cell_type": "code",
   "execution_count": null,
   "id": "f889f3bb",
   "metadata": {},
   "outputs": [],
   "source": [
    "raag = \"Multani\"  # Omkar Dadarkar\n",
    "swar = {\n",
    "    \"N.\": 0.942,\n",
    "    \"S\": 1.002,\n",
    "    \"r\": 1.050,\n",
    "    \"g\": 1.1923,\n",
    "    \"m\": 1.416,  # may be higher\n",
    "    \"P\": 1.497,\n",
    "    \"d\": 0.0,  #?\n",
    "    \"N\": 1.8896,\n",
    "    \"S^\": 1.998,\n",
    "}"
   ]
  },
  {
   "cell_type": "code",
   "execution_count": null,
   "id": "6f15d094",
   "metadata": {},
   "outputs": [],
   "source": [
    "raag = \"Todi\"  # Omkar Dadarkar\n",
    "swar = {\n",
    "    \"P.\": 0.7495,\n",
    "    \"d.\": 0.7984,  #?\n",
    "    \"S\": 1.000,  # originally was 0.992\n",
    "    \"r\": 1.0615,\n",
    "    \"g\": 1.1895,\n",
    "    \"m\": 1.434,\n",
    "    \"P\": 1.508,  # may be higher\n",
    "    \"d\": 1.594,\n",
    "    \"N\": 1.9083,\n",
    "    \"S^\": 2.001,\n",
    "    \"r^\": 2.389,\n",
    "}\n",
    "# all OG values divivded by 0.992"
   ]
  },
  {
   "cell_type": "code",
   "execution_count": null,
   "id": "82db8f3e",
   "metadata": {},
   "outputs": [],
   "source": [
    "raag = \"Bhimpalasi\"  # Satyasheel Deshpande\n",
    "swar = {\n",
    "    \"n.\": 0.901,\n",
    "    \"S\": 1.000,\n",
    "    \"R\": 1.127,\n",
    "    \"g\": 1.197,  # may be lower\n",
    "    \"M\": 1.333,\n",
    "    \"P\": 1.502,  # may be lower\n",
    "    \"D\": 1.678,  # may be lower\n",
    "    \"n\": 1.791,  # may be lower\n",
    "    \"S^\": 2.00,\n",
    "}"
   ]
  },
  {
   "cell_type": "code",
   "execution_count": null,
   "id": "a9b2544e",
   "metadata": {},
   "outputs": [],
   "source": [
    "raag = \"Bhimpalasi\"  # Omkar Dadarkar\n",
    "swar = {\n",
    "    \"n.\": 0.888, \n",
    "    \"S\": 1.002,\n",
    "    \"R\": 1.1225,\n",
    "    \"g\": 1.189,  # may be higher\n",
    "    \"M\": 1.332,\n",
    "    \"P\": 1.495,  # may be higher\n",
    "    \"D\": 1.689,  # may be lower\n",
    "    \"n\": 1.784,  # may be lower\n",
    "    \"S^\": 2.00,\n",
    "    \"R^\": 2.37,\n",
    "}"
   ]
  },
  {
   "cell_type": "code",
   "execution_count": null,
   "id": "e37b21f0",
   "metadata": {},
   "outputs": [],
   "source": []
  }
 ],
 "metadata": {
  "kernelspec": {
   "display_name": "Python 3",
   "language": "python",
   "name": "python3"
  },
  "language_info": {
   "codemirror_mode": {
    "name": "ipython",
    "version": 3
   },
   "file_extension": ".py",
   "mimetype": "text/x-python",
   "name": "python",
   "nbconvert_exporter": "python",
   "pygments_lexer": "ipython3",
   "version": "3.11.6"
  }
 },
 "nbformat": 4,
 "nbformat_minor": 5
}
