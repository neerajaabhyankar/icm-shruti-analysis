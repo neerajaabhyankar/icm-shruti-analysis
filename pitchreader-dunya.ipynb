{
 "cells": [
  {
   "cell_type": "markdown",
   "id": "3ddb2328",
   "metadata": {},
   "source": [
    "# Imports"
   ]
  },
  {
   "cell_type": "markdown",
   "id": "8a1d0907",
   "metadata": {},
   "source": [
    "Clone and install https://github.com/MTG/pycompmusic"
   ]
  },
  {
   "cell_type": "code",
   "execution_count": null,
   "id": "0ca29c96",
   "metadata": {},
   "outputs": [],
   "source": [
    "# token = \"185d809a541e65d254bc577774a3fce1749bbf50\""
   ]
  },
  {
   "cell_type": "code",
   "execution_count": null,
   "id": "25e93d8c",
   "metadata": {},
   "outputs": [],
   "source": [
    "# import compmusic\n",
    "\n",
    "# from compmusic import dunya as dn\n",
    "# from compmusic.dunya import hindustani as hi\n",
    "# from compmusic.dunya import carnatic as ca\n",
    "# from compmusic.dunya import docserver as ds\n",
    "# from compmusic import musicbrainz\n",
    "\n",
    "# dn.set_token(token)"
   ]
  },
  {
   "cell_type": "markdown",
   "id": "3ad8909a",
   "metadata": {},
   "source": [
    "Download data using `Ismir2018TutorialNotebooks/notebooks/downloadAllSARAGAContent.ipynb`"
   ]
  },
  {
   "cell_type": "code",
   "execution_count": null,
   "id": "3efe71f5",
   "metadata": {},
   "outputs": [],
   "source": [
    "import json, os, sys\n",
    "import pickle, csv\n",
    "import time\n",
    "import datetime\n",
    "import collections\n",
    "\n",
    "import numpy as np\n",
    "import pandas as pd\n",
    "import matplotlib.pyplot as plt\n",
    "import matplotlib.ticker as ticker\n",
    "import plotly.express as px\n",
    "\n",
    "import librosa\n",
    "from IPython.display import Audio as ipy_audio"
   ]
  },
  {
   "cell_type": "markdown",
   "id": "5798e7f5",
   "metadata": {},
   "source": [
    "# Data"
   ]
  },
  {
   "cell_type": "code",
   "execution_count": null,
   "id": "2f7e4008",
   "metadata": {},
   "outputs": [],
   "source": [
    "data_dir = \"/Users/neerajaabhyankar/Repos/icm-shruti-analysis/data-freqs-from-dunya/\""
   ]
  },
  {
   "cell_type": "code",
   "execution_count": null,
   "id": "5ff4ad9d",
   "metadata": {},
   "outputs": [],
   "source": [
    "track = \"Omkar Dadarkar - Raag Bhimpalasi\""
   ]
  },
  {
   "cell_type": "code",
   "execution_count": null,
   "id": "b7550325",
   "metadata": {},
   "outputs": [],
   "source": [
    "audio_file = track + \".mp3\"\n",
    "metadata_file = track + \".json\"\n",
    "tonic_file = track + \".ctonic.txt\"\n",
    "pitch_file = track + \".pitch.txt\""
   ]
  },
  {
   "cell_type": "code",
   "execution_count": null,
   "id": "ec50ad53",
   "metadata": {},
   "outputs": [],
   "source": []
  },
  {
   "cell_type": "markdown",
   "id": "d2cc384f",
   "metadata": {},
   "source": [
    "Metadata + Tonic"
   ]
  },
  {
   "cell_type": "code",
   "execution_count": null,
   "id": "50366fb2",
   "metadata": {},
   "outputs": [],
   "source": [
    "with open(data_dir + metadata_file) as json_data:\n",
    "    metadata = json.load(json_data)\n",
    "\n",
    "tonic = float(np.loadtxt(data_dir + tonic_file))"
   ]
  },
  {
   "cell_type": "code",
   "execution_count": null,
   "id": "0292cfdd",
   "metadata": {},
   "outputs": [],
   "source": [
    "print(f\"length = {metadata['length']/1000} seconds\")\n",
    "print(f\"base tonic = {tonic}\")"
   ]
  },
  {
   "cell_type": "markdown",
   "id": "e5df617a",
   "metadata": {},
   "source": [
    "Audio File"
   ]
  },
  {
   "cell_type": "code",
   "execution_count": null,
   "id": "f2cae24e",
   "metadata": {},
   "outputs": [],
   "source": [
    "y, sr = librosa.load(data_dir + audio_file)"
   ]
  },
  {
   "cell_type": "code",
   "execution_count": null,
   "id": "e6f32c69",
   "metadata": {},
   "outputs": [],
   "source": [
    "## Spectrogram\n",
    "\n",
    "# D = librosa.stft(y)\n",
    "# S_db = librosa.amplitude_to_db(np.abs(D), ref=np.max)\n",
    "\n",
    "# plt.figure().set_figwidth(12)\n",
    "# librosa.display.specshow(S_db, x_axis=\"time\", y_axis=\"hz\", bins_per_octave=22)\n",
    "# plt.colorbar()"
   ]
  },
  {
   "cell_type": "markdown",
   "id": "181d7349",
   "metadata": {},
   "source": [
    "Pitch Annotations"
   ]
  },
  {
   "cell_type": "code",
   "execution_count": null,
   "id": "75ce49f9",
   "metadata": {},
   "outputs": [],
   "source": [
    "pitch_annotations = []\n",
    "with open(data_dir + pitch_file) as pf:\n",
    "    for line in pf:\n",
    "        pitch_annotations.append(line.split())\n",
    "pitch_annotations = np.array(pitch_annotations).astype(float)"
   ]
  },
  {
   "cell_type": "code",
   "execution_count": null,
   "id": "be563a21",
   "metadata": {},
   "outputs": [],
   "source": [
    "print(f\"{pitch_annotations.shape[0]/metadata['length']*1000} annotations per second\")"
   ]
  },
  {
   "cell_type": "code",
   "execution_count": null,
   "id": "ba88527d",
   "metadata": {},
   "outputs": [],
   "source": []
  },
  {
   "cell_type": "markdown",
   "id": "71926b7b",
   "metadata": {},
   "source": [
    "# Stuff"
   ]
  },
  {
   "cell_type": "markdown",
   "id": "402522cf",
   "metadata": {},
   "source": [
    "Pitch Histogram"
   ]
  },
  {
   "cell_type": "code",
   "execution_count": null,
   "id": "89ee2363",
   "metadata": {},
   "outputs": [],
   "source": [
    "nz_annotations = pitch_annotations[np.where(pitch_annotations[:,1] != 0), 1][0]\n",
    "h = plt.hist(nz_annotations/tonic, bins=700)\n",
    "plt.xscale(\"log\")\n",
    "_ = plt.xlim(0.5, 3)\n",
    "\n",
    "counts = h[0]\n",
    "notes = (h[1][:-1]+h[1][1:])/2"
   ]
  },
  {
   "cell_type": "code",
   "execution_count": null,
   "id": "7f67c835",
   "metadata": {},
   "outputs": [],
   "source": [
    "fig = px.line(\n",
    "    pd.DataFrame({\"note\": notes, \"count\": counts}),\n",
    "    x=\"note\", y=\"count\",\n",
    "    log_x=True\n",
    ")\n",
    "# fig.update_layout(xaxis_range=[0.5, 3.1])\n",
    "fig.update_traces(hovertemplate=\"freq_ratio: %{x}<br>occurence: %{y}\")\n",
    "fig.show()"
   ]
  },
  {
   "cell_type": "code",
   "execution_count": null,
   "id": "9d3f2a8b",
   "metadata": {},
   "outputs": [],
   "source": [
    "print(track)"
   ]
  },
  {
   "cell_type": "code",
   "execution_count": null,
   "id": "fb6f5f81",
   "metadata": {},
   "outputs": [],
   "source": []
  },
  {
   "cell_type": "markdown",
   "id": "bcce0d54",
   "metadata": {},
   "source": [
    "Manual Peak Finding: Add to the list Below"
   ]
  },
  {
   "cell_type": "code",
   "execution_count": null,
   "id": "1b278e81",
   "metadata": {},
   "outputs": [],
   "source": [
    "raag = \"Bhimpalasi\"  # Omkar Dadarkar\n",
    "swar = {\n",
    "    \"n.\": 0.888, \n",
    "    \"S\": 1.002,\n",
    "    \"R\": 1.1225,\n",
    "    \"g\": 1.189,  # may be higher\n",
    "    \"M\": 1.333,\n",
    "    \"P\": 1.495,  # may be higher\n",
    "    \"D\": 1.689,  # may be lower\n",
    "    \"n\": 1.784,  # may be lower\n",
    "    \"S^\": 2.00,\n",
    "    \"R^\": 2.37,\n",
    "}"
   ]
  },
  {
   "cell_type": "code",
   "execution_count": null,
   "id": "31dcfbbe",
   "metadata": {},
   "outputs": [],
   "source": []
  },
  {
   "cell_type": "code",
   "execution_count": null,
   "id": "f6ebd6cb",
   "metadata": {},
   "outputs": [],
   "source": []
  }
 ],
 "metadata": {
  "kernelspec": {
   "display_name": "Python 3",
   "language": "python",
   "name": "python3"
  },
  "language_info": {
   "codemirror_mode": {
    "name": "ipython",
    "version": 3
   },
   "file_extension": ".py",
   "mimetype": "text/x-python",
   "name": "python",
   "nbconvert_exporter": "python",
   "pygments_lexer": "ipython3",
   "version": "3.11.6"
  }
 },
 "nbformat": 4,
 "nbformat_minor": 5
}
