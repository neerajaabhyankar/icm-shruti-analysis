{
 "cells": [
  {
   "cell_type": "code",
   "execution_count": null,
   "id": "e03f7c2d",
   "metadata": {},
   "outputs": [],
   "source": [
    "import os\n",
    "import numpy as np\n",
    "import matplotlib.pyplot as plt\n",
    "import librosa\n",
    "import soundfile as sf\n",
    "\n",
    "from IPython.display import Audio as ipy_audio"
   ]
  },
  {
   "cell_type": "code",
   "execution_count": null,
   "id": "c67c5700",
   "metadata": {},
   "outputs": [],
   "source": [
    "gps_file = \"GhodePeSawaar.mp3\"\n",
    "ngtj_file = \"NasatesaGhariTuJevha.wav\"\n",
    "bhoop_file = \"Omkar Dadarkar - Raag Bhoopali.mp3\""
   ]
  },
  {
   "cell_type": "code",
   "execution_count": null,
   "id": "4135080b",
   "metadata": {},
   "outputs": [],
   "source": []
  },
  {
   "cell_type": "markdown",
   "id": "025dec2b",
   "metadata": {},
   "source": [
    "#### librosa example"
   ]
  },
  {
   "cell_type": "code",
   "execution_count": null,
   "metadata": {},
   "outputs": [],
   "source": [
    "def read_audio_section(filename, start_time, stop_time):\n",
    "    track = sf.SoundFile(filename)\n",
    "    if not track.seekable():\n",
    "        raise ValueError(\"Not compatible with seeking\")\n",
    "\n",
    "    sr = track.samplerate\n",
    "    start_frame = sr * start_time\n",
    "    frames_to_read = sr * (stop_time - start_time)\n",
    "    track.seek(start_frame)\n",
    "    audio_section = track.read(frames_to_read)\n",
    "    \n",
    "    # sf.write(output_filename, audio_extract, sr)  # to write\n",
    "    \n",
    "    return audio_section, sr"
   ]
  },
  {
   "cell_type": "code",
   "execution_count": null,
   "metadata": {},
   "outputs": [],
   "source": [
    "# 06:45 to 07:00\n",
    "start = 45*60+20\n",
    "end = 45*60+32\n",
    "y_stereo, sr = read_audio_section(bhoop_file, start, end)\n",
    "y = librosa.to_mono(y_stereo.T)"
   ]
  },
  {
   "cell_type": "code",
   "execution_count": null,
   "metadata": {},
   "outputs": [],
   "source": [
    "y.shape"
   ]
  },
  {
   "cell_type": "code",
   "execution_count": null,
   "metadata": {},
   "outputs": [],
   "source": [
    "ipy_audio(data=y, rate=sr)"
   ]
  },
  {
   "cell_type": "code",
   "execution_count": null,
   "metadata": {},
   "outputs": [],
   "source": [
    "# res = librosa.pyin(y, fmin=50, fmax=200)\n",
    "# plt.plot(res[0])\n",
    "# # wtf is f0? why is it 3 arrays?"
   ]
  },
  {
   "cell_type": "code",
   "execution_count": null,
   "metadata": {},
   "outputs": [],
   "source": [
    "# ptrack = librosa.piptrack(y=y, sr=sr)"
   ]
  },
  {
   "cell_type": "code",
   "execution_count": null,
   "metadata": {},
   "outputs": [],
   "source": [
    "cqt = librosa.feature.chroma_cqt(y=y, sr=sr)"
   ]
  },
  {
   "cell_type": "code",
   "execution_count": null,
   "metadata": {},
   "outputs": [],
   "source": [
    "# known tonic\n",
    "sa = 155.563492"
   ]
  },
  {
   "cell_type": "code",
   "execution_count": null,
   "metadata": {},
   "outputs": [],
   "source": [
    "plt.figure(figsize=(10,5))\n",
    "ax = plt.gca()\n",
    "img = librosa.display.specshow(cqt, y_axis='chroma', x_axis='time')\n",
    "ax.yaxis.set_major_formatter(librosa.display.SvaraFormatter(sa))\n",
    "ax.set(title='chroma_stft')\n",
    "ax.label_outer()\n",
    "plt.colorbar(img)"
   ]
  },
  {
   "cell_type": "markdown",
   "metadata": {},
   "source": [
    "Something's wrong about this!<br>\n",
    "But stuff can be done.."
   ]
  },
  {
   "cell_type": "code",
   "execution_count": null,
   "metadata": {},
   "outputs": [],
   "source": [
    "y_harm, y_perc = librosa.effects.hpss(y)"
   ]
  },
  {
   "cell_type": "code",
   "execution_count": null,
   "metadata": {},
   "outputs": [],
   "source": [
    "ipy_audio(data=y_harm, rate=sr)"
   ]
  },
  {
   "cell_type": "code",
   "execution_count": null,
   "metadata": {},
   "outputs": [],
   "source": [
    "ipy_audio(data=y_perc, rate=sr)"
   ]
  },
  {
   "cell_type": "code",
   "execution_count": null,
   "metadata": {},
   "outputs": [],
   "source": []
  },
  {
   "cell_type": "code",
   "execution_count": null,
   "metadata": {},
   "outputs": [],
   "source": []
  },
  {
   "cell_type": "code",
   "execution_count": null,
   "metadata": {},
   "outputs": [],
   "source": []
  },
  {
   "cell_type": "code",
   "execution_count": null,
   "metadata": {},
   "outputs": [],
   "source": []
  },
  {
   "cell_type": "markdown",
   "id": "fdbea592",
   "metadata": {},
   "source": [
    "#### speech_recongition example"
   ]
  },
  {
   "cell_type": "code",
   "execution_count": null,
   "metadata": {},
   "outputs": [],
   "source": [
    "import speech_recognition as sr"
   ]
  },
  {
   "cell_type": "code",
   "execution_count": null,
   "id": "7327e286",
   "metadata": {},
   "outputs": [],
   "source": [
    "r = sr.Recognizer()\n",
    "\n",
    "# Reading Audio File and storing in a variable\n",
    "with sr.AudioFile(ngtj_file) as source:\n",
    "    audio_text = r.listen(source)"
   ]
  },
  {
   "cell_type": "code",
   "execution_count": null,
   "id": "92afb8c8",
   "metadata": {},
   "outputs": [],
   "source": [
    "text = r.recognize_google(audio_text, language=\"mr\")"
   ]
  },
  {
   "cell_type": "code",
   "execution_count": null,
   "id": "c2400f48",
   "metadata": {},
   "outputs": [],
   "source": []
  },
  {
   "cell_type": "code",
   "execution_count": null,
   "id": "d81db236",
   "metadata": {},
   "outputs": [],
   "source": []
  }
 ],
 "metadata": {
  "kernelspec": {
   "display_name": "Python 3",
   "language": "python",
   "name": "python3"
  },
  "language_info": {
   "codemirror_mode": {
    "name": "ipython",
    "version": 3
   },
   "file_extension": ".py",
   "mimetype": "text/x-python",
   "name": "python",
   "nbconvert_exporter": "python",
   "pygments_lexer": "ipython3",
   "version": "3.11.6"
  }
 },
 "nbformat": 4,
 "nbformat_minor": 5
}
