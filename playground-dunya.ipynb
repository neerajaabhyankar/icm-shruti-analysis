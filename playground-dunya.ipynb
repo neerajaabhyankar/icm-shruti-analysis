{
 "cells": [
  {
   "cell_type": "markdown",
   "id": "3ddb2328",
   "metadata": {},
   "source": [
    "# Imports"
   ]
  },
  {
   "cell_type": "markdown",
   "id": "8a1d0907",
   "metadata": {},
   "source": [
    "Clone and install https://github.com/MTG/pycompmusic"
   ]
  },
  {
   "cell_type": "markdown",
   "id": "3ad8909a",
   "metadata": {},
   "source": [
    "Download data using `download-dunya.py`"
   ]
  },
  {
   "cell_type": "code",
   "execution_count": null,
   "id": "3efe71f5",
   "metadata": {},
   "outputs": [],
   "source": [
    "import json, os, sys\n",
    "import pickle, csv\n",
    "import time\n",
    "import datetime\n",
    "import collections\n",
    "\n",
    "import numpy as np\n",
    "import pandas as pd\n",
    "import matplotlib.pyplot as plt\n",
    "import matplotlib.ticker as ticker\n",
    "import plotly.express as px\n",
    "\n",
    "import scipy\n",
    "import librosa\n",
    "from IPython.display import Audio as ipy_audio"
   ]
  },
  {
   "cell_type": "code",
   "execution_count": null,
   "metadata": {},
   "outputs": [],
   "source": [
    "from quicktranscribe import tonic, pitch, wave"
   ]
  },
  {
   "cell_type": "markdown",
   "id": "5798e7f5",
   "metadata": {},
   "source": [
    "# Data"
   ]
  },
  {
   "cell_type": "code",
   "execution_count": null,
   "id": "2f7e4008",
   "metadata": {},
   "outputs": [],
   "source": [
    "data_dir = \"/Users/neerajaabhyankar/Repos/icm-shruti-analysis/data-dunya-hindustani/\"\n",
    "track = \"Omkar Dadarkar - Raag Bhoopali\""
   ]
  },
  {
   "cell_type": "markdown",
   "id": "d2cc384f",
   "metadata": {},
   "source": [
    "Metadata, Tonic, Pitch, Audio"
   ]
  },
  {
   "cell_type": "code",
   "execution_count": null,
   "id": "50366fb2",
   "metadata": {},
   "outputs": [],
   "source": [
    "# metadata = tonic.read_metadata(data_dir + track + \".json\")\n",
    "ctonic = tonic.read_tonic(data_dir + track + \".ctonic.txt\")\n",
    "pitch_annotations, aps = pitch.read_pitch(data_dir + track + \".pitch.txt\")"
   ]
  },
  {
   "cell_type": "code",
   "execution_count": null,
   "id": "f2cae24e",
   "metadata": {},
   "outputs": [],
   "source": [
    "y, sr = wave.get_audio(data_dir + track + \".mp3\")"
   ]
  },
  {
   "cell_type": "code",
   "execution_count": null,
   "id": "ba88527d",
   "metadata": {},
   "outputs": [],
   "source": []
  },
  {
   "cell_type": "markdown",
   "id": "7bf4abcb",
   "metadata": {},
   "source": [
    "# Validating Pitch Annotations"
   ]
  },
  {
   "cell_type": "code",
   "execution_count": null,
   "metadata": {},
   "outputs": [],
   "source": [
    "pv = pitch.PitchValidator(audio_array=y, sampling_rate=sr)\n",
    "pv.set_annotation(pitch_annotations=pitch_annotations, annotation_rate=aps)"
   ]
  },
  {
   "cell_type": "code",
   "execution_count": null,
   "id": "0f795c45",
   "metadata": {},
   "outputs": [],
   "source": [
    "# Find a representative sample\n",
    "# 06:45 to 07:00\n",
    "pv.play_sample(start_time=6*60+45, end_time=7*60)"
   ]
  },
  {
   "cell_type": "code",
   "execution_count": null,
   "metadata": {},
   "outputs": [],
   "source": [
    "pv.validate_annotations(start_time=6*60+45, end_time=7*60)"
   ]
  },
  {
   "cell_type": "code",
   "execution_count": null,
   "metadata": {},
   "outputs": [],
   "source": []
  },
  {
   "cell_type": "markdown",
   "metadata": {},
   "source": [
    "# Manual Note Mode Finding"
   ]
  },
  {
   "cell_type": "code",
   "execution_count": null,
   "metadata": {},
   "outputs": [],
   "source": [
    "pv.plot_annotations_hist()"
   ]
  },
  {
   "cell_type": "markdown",
   "metadata": {},
   "source": [
    "Add counts to the list manual-shruti-peaks.txt"
   ]
  },
  {
   "cell_type": "markdown",
   "id": "f96f7b5d",
   "metadata": {},
   "source": [
    "# TODO"
   ]
  },
  {
   "cell_type": "markdown",
   "id": "30164021",
   "metadata": {},
   "source": [
    "NEXT:\n",
    "1. refine the beat structure to 1/4\n",
    "2. auto-detect tempo chunks, break by tempo, and apply the prototype\n",
    "3. try some basic librosa pitch detection, see if it's better than the annotations, else just keep taking the mode over annotations\n",
    "3. now we have a real time-series in φ"
   ]
  },
  {
   "cell_type": "code",
   "execution_count": null,
   "metadata": {},
   "outputs": [],
   "source": []
  },
  {
   "cell_type": "markdown",
   "metadata": {},
   "source": [
    "Select a sample"
   ]
  },
  {
   "cell_type": "code",
   "execution_count": null,
   "metadata": {},
   "outputs": [],
   "source": [
    "# 06:45 to 07:00\n",
    "start = 45*60+20\n",
    "end = 45*60+32\n",
    "\n",
    "y_small = y[start*sr:end*sr]\n",
    "pa_small = pitch_annotations[start*aps:end*aps, 1]"
   ]
  },
  {
   "cell_type": "code",
   "execution_count": null,
   "metadata": {},
   "outputs": [],
   "source": []
  },
  {
   "cell_type": "code",
   "execution_count": null,
   "id": "2e26e411",
   "metadata": {},
   "outputs": [],
   "source": [
    "tempo, beat_frames = librosa.beat.beat_track(y=y_small, sr=sr)\n",
    "beat_times = librosa.frames_to_time(beat_frames, sr=sr)"
   ]
  },
  {
   "cell_type": "code",
   "execution_count": null,
   "id": "ec22646b",
   "metadata": {},
   "outputs": [],
   "source": []
  },
  {
   "cell_type": "markdown",
   "metadata": {},
   "source": [
    "Temp: collapse to known swars"
   ]
  },
  {
   "cell_type": "code",
   "execution_count": null,
   "metadata": {},
   "outputs": [],
   "source": [
    "swar = {\n",
    "    \"D.\": 0.8362, \"S\": 0.997, \"R\": 1.11896, \"G\": 1.2565, \"P\": 1.501\n",
    "}\n",
    "swars = np.array(list(swar.values()))*tonic\n",
    "swars = np.concatenate((swars/2, swars, swars*2))"
   ]
  },
  {
   "cell_type": "code",
   "execution_count": null,
   "metadata": {},
   "outputs": [],
   "source": [
    "swar_small = []\n",
    "for pa in pa_small:\n",
    "    if pa == 0:\n",
    "        swar_small.append(0)\n",
    "    else:\n",
    "        idx = (np.abs(swars - pa)).argmin()\n",
    "        swar_small.append(swars[idx])\n",
    "\n",
    "# plt.plot(range(len(pa_small)), pa_small)\n",
    "# plt.plot(range(len(swar_small)), swar_small)"
   ]
  },
  {
   "cell_type": "code",
   "execution_count": null,
   "metadata": {},
   "outputs": [],
   "source": [
    "plt.plot(range(len(pa_small)), pa_small)\n",
    "plt.plot(range(len(swar_small)), swar_small)"
   ]
  },
  {
   "cell_type": "markdown",
   "metadata": {},
   "source": [
    "Note: the following won't scale! Just for now, looking at how the mode sounds"
   ]
  },
  {
   "cell_type": "code",
   "execution_count": null,
   "metadata": {},
   "outputs": [],
   "source": [
    "beat_swars = []\n",
    "y_swar_small = []\n",
    "for beat_idx in range(1, len(beat_times)):\n",
    "    beat_start = beat_times[beat_idx-1]\n",
    "    beat_end = beat_times[beat_idx]\n",
    "    swars_beat = swar_small[int(beat_start*aps):int(beat_end*aps)]\n",
    "    \n",
    "    idx = (np.abs(swars - scipy.stats.mode(swars_beat).mode)).argmin()\n",
    "    beat_swars.append(swars[idx])\n",
    "    \n",
    "    tone = librosa.tone(swars[idx], sr=sr, length=(beat_end-beat_start)*sr)\n",
    "    y_swar_small += tone.tolist()\n",
    "\n",
    "    "
   ]
  },
  {
   "cell_type": "code",
   "execution_count": null,
   "metadata": {},
   "outputs": [],
   "source": [
    "print(\"beat-wise swar-collapsed waveform\")\n",
    "ipy_audio(data=y_swar_small, rate=sr)"
   ]
  },
  {
   "cell_type": "code",
   "execution_count": null,
   "metadata": {},
   "outputs": [],
   "source": [
    "print(\"original sample\")\n",
    "ipy_audio(data=y_small, rate=sr)"
   ]
  },
  {
   "cell_type": "code",
   "execution_count": null,
   "metadata": {},
   "outputs": [],
   "source": []
  }
 ],
 "metadata": {
  "kernelspec": {
   "display_name": "Python 3",
   "language": "python",
   "name": "python3"
  },
  "language_info": {
   "codemirror_mode": {
    "name": "ipython",
    "version": 3
   },
   "file_extension": ".py",
   "mimetype": "text/x-python",
   "name": "python",
   "nbconvert_exporter": "python",
   "pygments_lexer": "ipython3",
   "version": "3.11.6"
  }
 },
 "nbformat": 4,
 "nbformat_minor": 5
}
