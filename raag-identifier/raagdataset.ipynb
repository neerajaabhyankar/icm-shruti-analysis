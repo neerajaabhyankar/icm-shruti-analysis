{
 "cells": [
  {
   "cell_type": "code",
   "execution_count": null,
   "metadata": {},
   "outputs": [],
   "source": [
    "import os\n",
    "import json\n",
    "import csv\n",
    "import regex as re\n",
    "import subprocess\n",
    "import numpy as np\n",
    "from youtubesearchpython import VideosSearch\n",
    "import soundfile as sf\n",
    "from typing import List, Dict"
   ]
  },
  {
   "cell_type": "code",
   "execution_count": null,
   "metadata": {},
   "outputs": [],
   "source": []
  },
  {
   "cell_type": "markdown",
   "metadata": {},
   "source": [
    "## Utils"
   ]
  },
  {
   "cell_type": "code",
   "execution_count": null,
   "metadata": {},
   "outputs": [],
   "source": [
    "def duration_to_int(dur):\n",
    "    dd = 0\n",
    "    tt = 0  # power of 60\n",
    "    for ii in dur.split(\":\")[::-1]:\n",
    "        dd += (60 ** tt) * int(ii)\n",
    "        tt += 1\n",
    "    return dd"
   ]
  },
  {
   "cell_type": "code",
   "execution_count": null,
   "metadata": {},
   "outputs": [],
   "source": [
    "def read_audio_section(filename, start_time, stop_time):\n",
    "    track = sf.SoundFile(filename)\n",
    "    if not track.seekable():\n",
    "        raise ValueError(\"Not compatible with seeking\")\n",
    "\n",
    "    sr = track.samplerate\n",
    "    start_frame = sr * int(start_time)\n",
    "    frames_to_read = sr * int(stop_time - start_time)\n",
    "    track.seek(start_frame)\n",
    "    audio_section = track.read(frames_to_read)\n",
    "    \n",
    "    return audio_section, sr"
   ]
  },
  {
   "cell_type": "code",
   "execution_count": null,
   "metadata": {},
   "outputs": [],
   "source": [
    "URL_PATTERN = re.compile(r'\\[([^\\]]+)\\]')"
   ]
  },
  {
   "cell_type": "code",
   "execution_count": null,
   "metadata": {},
   "outputs": [],
   "source": []
  },
  {
   "cell_type": "markdown",
   "metadata": {},
   "source": [
    "## Raag Search"
   ]
  },
  {
   "cell_type": "markdown",
   "metadata": {},
   "source": [
    "### Query Builder"
   ]
  },
  {
   "cell_type": "code",
   "execution_count": null,
   "metadata": {},
   "outputs": [],
   "source": [
    "vocal_artists = []\n",
    "instr_artists = []"
   ]
  },
  {
   "cell_type": "code",
   "execution_count": null,
   "metadata": {},
   "outputs": [],
   "source": [
    "def query_builder(raag) -> List[str]:\n",
    "    links = []\n",
    "    \n",
    "    # Bada Khyal\n",
    "    b_res = VideosSearch(f\"Raag {raag} Khyaal\", limit = 7).result()[\"result\"]\n",
    "    b_res = sorted(b_res, key=lambda x: duration_to_int(x[\"duration\"]))[::-1]\n",
    "    # constrain duration between 30-90 minutes\n",
    "    for br in b_res:\n",
    "        if 1800 <= duration_to_int(br[\"duration\"]) <= 5400:\n",
    "            print(f\"adding {br['title']}\")\n",
    "            links.append(br[\"link\"])\n",
    "        else:\n",
    "            print(f\"skipping {br['title']}\")\n",
    "    \n",
    "    # Chhota Khyal\n",
    "    c_res = VideosSearch(f\"Raag {raag} Vocal Drut\", limit = 7).result()[\"result\"]\n",
    "    c_res = sorted(c_res, key=lambda x: duration_to_int(x[\"duration\"]))[::-1]\n",
    "    # constrain duration between 7-25 minutes\n",
    "    for cr in c_res:\n",
    "        if 420 <= duration_to_int(cr[\"duration\"]) <= 1500:\n",
    "            print(f\"adding {cr['title']}\")\n",
    "            links.append(cr[\"link\"])\n",
    "        else:\n",
    "            print(f\"skipping {cr['title']}\")\n",
    "    \n",
    "    # Instrumental\n",
    "    i_res = VideosSearch(f\"Raag {raag} Instrumental\", limit = 7).result()[\"result\"]\n",
    "    i_res = sorted(i_res, key=lambda x: duration_to_int(x[\"duration\"]))[::-1]\n",
    "    # constrain duration between 10-45 minutes\n",
    "    for ir in i_res:\n",
    "        if 600 <= duration_to_int(ir[\"duration\"]) <= 2700:\n",
    "            print(f\"adding {ir['title']}\")\n",
    "            links.append(ir[\"link\"])\n",
    "        else:\n",
    "            print(f\"skipping {ir['title']}\")\n",
    "    \n",
    "    return links"
   ]
  },
  {
   "cell_type": "code",
   "execution_count": null,
   "metadata": {},
   "outputs": [],
   "source": [
    "# # List of all raags\n",
    "# raag_names = []\n",
    "# refs = []\n",
    "# with open(\"tanarang/raaglist.csv\", \"r\") as fp:\n",
    "#     wr = csv.reader(fp, delimiter=\",\")\n",
    "#     for line in wr:\n",
    "#         raag_names.append(line[0])\n",
    "#         refs.append(line[1])\n",
    "# raag_include = [False] * len(raag_names)\n"
   ]
  },
  {
   "cell_type": "code",
   "execution_count": null,
   "metadata": {},
   "outputs": [],
   "source": [
    "# # To create a SMALL dataset\n",
    "# for ii, rn in enumerate(raag_names):\n",
    "#     y = input(f\"include {rn}?\\n\")\n",
    "#     if \"y\" in y:\n",
    "#         raag_include[ii] = True\n",
    "# with open(\"raags_small.txt\", \"w\") as fp:\n",
    "#     for raag in np.array(raag_names)[raag_include]:\n",
    "#         fp.write(f\"{raag}\\n\")\n",
    "with open(\"raags_small.txt\", \"r\") as fp:\n",
    "    raag_names_small = fp.readlines()\n",
    "    raag_names_small = [rr.strip() for rr in raag_names_small]"
   ]
  },
  {
   "cell_type": "code",
   "execution_count": null,
   "metadata": {},
   "outputs": [],
   "source": []
  },
  {
   "cell_type": "markdown",
   "metadata": {},
   "source": [
    "### Gather Links + Download Audios"
   ]
  },
  {
   "cell_type": "code",
   "execution_count": null,
   "metadata": {},
   "outputs": [],
   "source": [
    "DOWNLOAD_DIR = \"hindustani-raag-fullaudios\""
   ]
  },
  {
   "cell_type": "code",
   "execution_count": null,
   "metadata": {},
   "outputs": [],
   "source": [
    "def fetch_audio(raag):\n",
    "    raag_urls = query_builder(raag)\n",
    "\n",
    "    raag_concise = raag.split(\"(\")[0].replace(\" \", \"\")\n",
    "    os.makedirs(DOWNLOAD_DIR + \"/\" + raag_concise, exist_ok=True)\n",
    "\n",
    "    for ii in raag_urls:\n",
    "        command = \"/opt/homebrew/bin/yt-dlp \" + ii + \" -f 'ba' -x --audio-format 'mp3' --ffmpeg-location /opt/homebrew/bin/ffmpeg -P \" + DOWNLOAD_DIR + \"/\" + raag_concise + \"/\"\n",
    "        result = subprocess.run(command, shell=True, capture_output=True)\n",
    "        print(result.stdout.decode())\n",
    "        if len(result.stderr) > 0:\n",
    "            print(\"Error:\", result.stderr.decode())"
   ]
  },
  {
   "cell_type": "code",
   "execution_count": null,
   "metadata": {},
   "outputs": [],
   "source": [
    "# for raag in raag_names_small:\n",
    "#     fetch_audio(raag)\n",
    "fetch_audio(\"Amritavarshini\")"
   ]
  },
  {
   "cell_type": "code",
   "execution_count": null,
   "metadata": {},
   "outputs": [],
   "source": []
  },
  {
   "cell_type": "markdown",
   "metadata": {},
   "source": [
    "### Get Chunks & Write to Dataset Structure"
   ]
  },
  {
   "cell_type": "code",
   "execution_count": null,
   "metadata": {},
   "outputs": [],
   "source": [
    "DATASET_DIR = \"hindustani-raag-small\"\n",
    "DOWNLOAD_DIR = \"hindustani-raag-fullaudios\""
   ]
  },
  {
   "cell_type": "code",
   "execution_count": null,
   "metadata": {},
   "outputs": [],
   "source": [
    "# heuristic sample locations\n",
    "# each chunk 0.01 of the audio duration\n",
    "train_chunks = [\n",
    "    (0.24, 0.25),\n",
    "    (0.44, 0.45),\n",
    "    (0.74, 0.75)  \n",
    "]\n",
    "test_chunks = [\n",
    "    (0.44, 0.45),\n",
    "    (0.64, 0.65),\n",
    "]"
   ]
  },
  {
   "cell_type": "code",
   "execution_count": null,
   "metadata": {},
   "outputs": [],
   "source": [
    "np.random.seed(0)\n",
    "\n",
    "for raag in sorted(os.listdir(DOWNLOAD_DIR)):\n",
    "    if raag[0] == \".\":\n",
    "        continue\n",
    "    os.makedirs(DATASET_DIR + \"/\" + raag, exist_ok=True)\n",
    "    test_file_idx = np.random.choice(range(len(os.listdir(DOWNLOAD_DIR + \"/\" + raag))))\n",
    "    \n",
    "    for ai, audio in enumerate(sorted(os.listdir(DOWNLOAD_DIR + \"/\" + raag))):\n",
    "        if audio[0] == \".\":\n",
    "            continue\n",
    "        f = sf.SoundFile(DOWNLOAD_DIR + \"/\" + raag + \"/\" + audio)\n",
    "        duration = f.frames / f.samplerate\n",
    "        # audio_concise = re.sub(r'[^\\p{L}\\p{M}\\d]', \"-\", audio[:-4])\n",
    "        audio_url = re.findall(URL_PATTERN, audio)[-1]\n",
    "        \n",
    "        if ai == test_file_idx:\n",
    "            for ci, ch in enumerate(test_chunks):\n",
    "                writepath = DATASET_DIR + \"/\" + raag + \"/test_[\" + audio_url + \"]_chunk\" + str(ci) + \".mp3\"\n",
    "                if not os.path.exists(writepath):\n",
    "                    audio_chunk, sr = read_audio_section(DOWNLOAD_DIR + \"/\" + raag + \"/\" + audio, duration * ch[0], duration * ch[1])\n",
    "                    sf.write(writepath, audio_chunk, sr)\n",
    "        else:\n",
    "            for ci, ch in enumerate(train_chunks):\n",
    "                writepath = DATASET_DIR + \"/\" + raag + \"/train_[\" + audio_url + \"]_chunk\" + str(ci) + \".mp3\"\n",
    "                if not os.path.exists(writepath):\n",
    "                    audio_chunk, sr = read_audio_section(DOWNLOAD_DIR + \"/\" + raag + \"/\" + audio, duration * ch[0], duration * ch[1])\n",
    "                    sf.write(writepath, audio_chunk, sr)"
   ]
  },
  {
   "cell_type": "markdown",
   "metadata": {},
   "source": [
    "Note: listen to all samples to ensure this is not speech & is indeed said raag"
   ]
  },
  {
   "cell_type": "code",
   "execution_count": null,
   "metadata": {},
   "outputs": [],
   "source": [
    "# TODO: Carry over some metadata from the youtube search..\n",
    "# This will be very important for credit attribution!!"
   ]
  },
  {
   "cell_type": "code",
   "execution_count": null,
   "metadata": {},
   "outputs": [],
   "source": []
  },
  {
   "cell_type": "markdown",
   "metadata": {},
   "source": [
    "## Push To Hub"
   ]
  },
  {
   "cell_type": "code",
   "execution_count": null,
   "metadata": {},
   "outputs": [],
   "source": [
    "# # check whether this looks good\n",
    "# from datasets import load_dataset\n",
    "# ds = load_dataset(\"hindustani-raag-small\")\n",
    "\n",
    "# # this doesn't work\n",
    "# ds.push_to_hub(repo_id=\"neerajaabhyankar/hindustani-raag-small\", token=\"\")"
   ]
  },
  {
   "cell_type": "code",
   "execution_count": null,
   "metadata": {},
   "outputs": [],
   "source": [
    "from huggingface_hub import HfApi\n",
    "api = HfApi()"
   ]
  },
  {
   "cell_type": "code",
   "execution_count": null,
   "metadata": {},
   "outputs": [],
   "source": [
    "api.upload_folder(\n",
    "    folder_path=\"hindustani-raag-small/\",\n",
    "    repo_id=\"neerajaabhyankar/hindustani-raag-small\",\n",
    "    repo_type=\"dataset\",\n",
    ")"
   ]
  },
  {
   "cell_type": "code",
   "execution_count": null,
   "metadata": {},
   "outputs": [],
   "source": []
  }
 ],
 "metadata": {
  "kernelspec": {
   "display_name": "icm-shruti-analysis-XL3d-GDY-py3.11",
   "language": "python",
   "name": "python3"
  },
  "language_info": {
   "codemirror_mode": {
    "name": "ipython",
    "version": 3
   },
   "file_extension": ".py",
   "mimetype": "text/x-python",
   "name": "python",
   "nbconvert_exporter": "python",
   "pygments_lexer": "ipython3",
   "version": "3.11.6"
  }
 },
 "nbformat": 4,
 "nbformat_minor": 2
}
