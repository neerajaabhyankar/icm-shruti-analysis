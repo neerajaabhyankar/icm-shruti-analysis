{
 "cells": [
  {
   "cell_type": "code",
   "execution_count": null,
   "metadata": {},
   "outputs": [],
   "source": [
    "# Author: Pranav Vyas, Neeraja Abhyankar\n",
    "# Created: September 2021"
   ]
  },
  {
   "cell_type": "code",
   "execution_count": null,
   "metadata": {},
   "outputs": [],
   "source": [
    "import plotly.graph_objects as go\n",
    "import time\n",
    "import numpy as np"
   ]
  },
  {
   "cell_type": "code",
   "execution_count": null,
   "metadata": {},
   "outputs": [],
   "source": [
    "BASE_FREQUENCY = 100"
   ]
  },
  {
   "cell_type": "code",
   "execution_count": null,
   "metadata": {},
   "outputs": [],
   "source": [
    "# Cycle of fifths -- extended\n",
    "\n",
    "fS = 100 \n",
    "n_pts = 10\n",
    "\n",
    "# f/2, f and 2F are the same. So a fraction of 2 covers an update of 2*pi\n",
    "\n",
    "listA = []\n",
    "listB = []\n",
    "listC = []\n",
    "for ii in range(n_pts):\n",
    "    listC.append(1)#ii)\n",
    "    fA = fS*((3/2)**ii)\n",
    "    fB = fS*((2/3)**ii)\n",
    "    thetaA = 7*360*np.log(fA/fS)/np.log(2)\n",
    "    thetaB = 7*360*np.log(fB/fS)/np.log(2)\n",
    "    listA.append(thetaA)\n",
    "    listB.append(thetaB)\n",
    "\n",
    "listO = (np.array(listC)/n_pts).tolist()\n",
    "\n",
    "fig = go.Figure()\n",
    "fig.add_trace(go.Scatterpolar(\n",
    "        r = listC,\n",
    "        theta = listA,\n",
    "        name = '3/2',\n",
    "        mode = 'markers',\n",
    "        marker_color = 'peru'\n",
    "    ))\n",
    "fig.add_trace(go.Scatterpolar(\n",
    "        r = listC,\n",
    "        theta = listB,\n",
    "        name = '2/3',\n",
    "        mode = 'markers',\n",
    "        marker_color = 'darkviolet'\n",
    "    ))\n",
    "\n",
    "fig.update_layout(showlegend=True)\n",
    "fig.show()\n",
    "time.sleep(0.1)"
   ]
  },
  {
   "cell_type": "code",
   "execution_count": null,
   "metadata": {},
   "outputs": [],
   "source": [
    "def freq_to_theta(f: float) -> float:\n",
    "    \"\"\" Given any frequency value\n",
    "        Takes its log and scales it within 0 to 2*pi\n",
    "        So that factors of log(2) are ignored\n",
    "        And 0 is aligned with the BASE_FREQUENCY\n",
    "    \"\"\"\n",
    "    return np.divmod(np.log(f/BASE_FREQUENCY)/np.log(2), 1)[1] * 360"
   ]
  },
  {
   "cell_type": "code",
   "execution_count": null,
   "metadata": {},
   "outputs": [],
   "source": [
    "assert freq_to_theta(BASE_FREQUENCY) == 0\n",
    "assert freq_to_theta(BASE_FREQUENCY/2) == 0\n",
    "assert freq_to_theta(BASE_FREQUENCY*2) == 0"
   ]
  },
  {
   "cell_type": "code",
   "execution_count": null,
   "metadata": {},
   "outputs": [],
   "source": []
  },
  {
   "cell_type": "code",
   "execution_count": null,
   "metadata": {},
   "outputs": [],
   "source": [
    "n_powers_of_3 = 7\n",
    "\n",
    "thirds = np.array([BASE_FREQUENCY * np.float_power(3, i) for i in range(1, n_powers_of_3)])\n",
    "thirds = np.array(list(map(freq_to_theta, thirds)))\n",
    "\n",
    "one_thirds = np.array([BASE_FREQUENCY * np.float_power(3, -i) for i in range(1, n_powers_of_3)])\n",
    "one_thirds = np.array(list(map(freq_to_theta, one_thirds)))\n",
    "\n",
    "radii = np.array([1/i for i in range(1, n_powers_of_3)])"
   ]
  },
  {
   "cell_type": "code",
   "execution_count": null,
   "metadata": {},
   "outputs": [],
   "source": [
    "n_powers_of_5 = 2\n",
    "\n",
    "fifths = np.array([BASE_FREQUENCY * np.float_power(5, i) for i in range(1, n_powers_of_5)])\n",
    "fifths = np.array(list(map(freq_to_theta, fifths)))\n",
    "\n",
    "one_fifths = np.array([BASE_FREQUENCY * np.float_power(5, -i) for i in range(1, n_powers_of_5)])\n",
    "one_fifths = np.array(list(map(freq_to_theta, one_fifths)))\n",
    "\n",
    "radii = np.array([1/i for i in range(1, n_powers_of_5)])"
   ]
  },
  {
   "cell_type": "code",
   "execution_count": null,
   "metadata": {},
   "outputs": [],
   "source": [
    "n_powers_of_3 = 7\n",
    "\n",
    "five_thirds = np.array([BASE_FREQUENCY * 5 * np.float_power(3, i) for i in range(1, n_powers_of_3)])\n",
    "five_thirds = np.array(list(map(freq_to_theta, five_thirds)))\n",
    "\n",
    "onebyfive_thirds = np.array([BASE_FREQUENCY * (1/5) * np.float_power(3, -i) for i in range(1, n_powers_of_3)])\n",
    "onebyfive_thirds = np.array(list(map(freq_to_theta, onebyfive_thirds)))\n",
    "\n",
    "radii = np.array([1/i for i in range(1, n_powers_of_3)])"
   ]
  },
  {
   "cell_type": "code",
   "execution_count": null,
   "metadata": {},
   "outputs": [],
   "source": [
    "fig = go.Figure()\n",
    "\n",
    "fig.add_trace(go.Scatterpolar(\n",
    "        r = radii,\n",
    "        theta = thirds,\n",
    "        name = 'thirds',\n",
    "        mode = 'markers',\n",
    "        marker_color = \"blue\"\n",
    "    ))\n",
    "fig.add_trace(go.Scatterpolar(\n",
    "        r = radii,\n",
    "        theta = one_thirds,\n",
    "        name = 'thirds',\n",
    "        mode = 'markers',\n",
    "        marker_color = \"blue\"\n",
    "    ))\n",
    "\n",
    "fig.add_trace(go.Scatterpolar(\n",
    "        r = radii,\n",
    "        theta = fifths,\n",
    "        name = 'fifths',\n",
    "        mode = 'markers',\n",
    "        marker_color = \"red\"\n",
    "    ))\n",
    "fig.add_trace(go.Scatterpolar(\n",
    "        r = radii,\n",
    "        theta = one_fifths,\n",
    "        name = 'fifths',\n",
    "        mode = 'markers',\n",
    "        marker_color = \"red\"\n",
    "    ))\n",
    "\n",
    "fig.add_trace(go.Scatterpolar(\n",
    "        r = radii,\n",
    "        theta = five_thirds,\n",
    "        name = 'five_thirds',\n",
    "        mode = 'markers',\n",
    "        marker_color = \"violet\"\n",
    "    ))\n",
    "fig.add_trace(go.Scatterpolar(\n",
    "        r = radii,\n",
    "        theta = onebyfive_thirds,\n",
    "        name = 'five_thirds',\n",
    "        mode = 'markers',\n",
    "        marker_color = \"violet\"\n",
    "    ))\n",
    "\n",
    "fig.update_layout(showlegend=True)\n",
    "fig.show()"
   ]
  },
  {
   "cell_type": "code",
   "execution_count": null,
   "metadata": {},
   "outputs": [],
   "source": []
  },
  {
   "cell_type": "code",
   "execution_count": null,
   "metadata": {},
   "outputs": [],
   "source": []
  }
 ],
 "metadata": {
  "kernelspec": {
   "display_name": "Python 3 (ipykernel)",
   "language": "python",
   "name": "python3"
  },
  "language_info": {
   "codemirror_mode": {
    "name": "ipython",
    "version": 3
   },
   "file_extension": ".py",
   "mimetype": "text/x-python",
   "name": "python",
   "nbconvert_exporter": "python",
   "pygments_lexer": "ipython3",
   "version": "3.8.9"
  },
  "varInspector": {
   "cols": {
    "lenName": 16,
    "lenType": 16,
    "lenVar": 40
   },
   "kernels_config": {
    "python": {
     "delete_cmd_postfix": "",
     "delete_cmd_prefix": "del ",
     "library": "var_list.py",
     "varRefreshCmd": "print(var_dic_list())"
    },
    "r": {
     "delete_cmd_postfix": ") ",
     "delete_cmd_prefix": "rm(",
     "library": "var_list.r",
     "varRefreshCmd": "cat(var_dic_list()) "
    }
   },
   "types_to_exclude": [
    "module",
    "function",
    "builtin_function_or_method",
    "instance",
    "_Feature"
   ],
   "window_display": false
  }
 },
 "nbformat": 4,
 "nbformat_minor": 4
}
