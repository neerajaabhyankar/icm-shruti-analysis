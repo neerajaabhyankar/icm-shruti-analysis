{
 "cells": [
  {
   "cell_type": "code",
   "execution_count": null,
   "metadata": {},
   "outputs": [],
   "source": [
    "import json\n",
    "import subprocess\n",
    "from youtubesearchpython import VideosSearch\n",
    "from typing import List, Dict"
   ]
  },
  {
   "cell_type": "code",
   "execution_count": null,
   "metadata": {},
   "outputs": [],
   "source": []
  },
  {
   "cell_type": "code",
   "execution_count": null,
   "metadata": {},
   "outputs": [],
   "source": [
    "def duration_to_int(dur):\n",
    "    dd = 0\n",
    "    tt = 0  # power of 60\n",
    "    for ii in dur.split(\":\")[::-1]:\n",
    "        dd += (60 ** tt) * int(ii)\n",
    "        tt += 1\n",
    "    return dd"
   ]
  },
  {
   "cell_type": "code",
   "execution_count": null,
   "metadata": {},
   "outputs": [],
   "source": []
  },
  {
   "cell_type": "markdown",
   "metadata": {},
   "source": [
    "## Raag Search"
   ]
  },
  {
   "cell_type": "code",
   "execution_count": null,
   "metadata": {},
   "outputs": [],
   "source": [
    "vocal_artists = []\n",
    "instr_artists = []"
   ]
  },
  {
   "cell_type": "code",
   "execution_count": null,
   "metadata": {},
   "outputs": [],
   "source": [
    "def query_builder(raag) -> List[str]:\n",
    "    links = []\n",
    "    \n",
    "    # Bada Khyal\n",
    "    b_res = VideosSearch(f\"{raag} Khyaal\", limit = 3).result()[\"result\"]\n",
    "    b_res = sorted(b_res, key=lambda x: duration_to_int(x[\"duration\"]))[::-1]\n",
    "    # constrain duration between 30-90 minutes\n",
    "    for br in b_res:\n",
    "        if 1800 <= duration_to_int(br[\"duration\"]) <= 5400:\n",
    "            print(f\"adding {br['title']}\")\n",
    "            links.append(br[\"link\"])\n",
    "    \n",
    "    # Chhota Khyal\n",
    "    c_res = VideosSearch(f\"{raag} Vocal Drut\", limit = 3).result()[\"result\"]\n",
    "    c_res = sorted(c_res, key=lambda x: duration_to_int(x[\"duration\"]))[::-1]\n",
    "    # constrain duration between 7-25 minutes\n",
    "    for cr in c_res:\n",
    "        if 420 <= duration_to_int(cr[\"duration\"]) <= 1500:\n",
    "            print(f\"adding {cr['title']}\")\n",
    "            links.append(cr[\"link\"])\n",
    "    \n",
    "    # Instrumental\n",
    "    i_res = VideosSearch(f\"{raag} Instrumental\", limit = 3).result()[\"result\"]\n",
    "    i_res = sorted(i_res, key=lambda x: duration_to_int(x[\"duration\"]))[::-1]\n",
    "    # constrain duration between 10-45 minutes\n",
    "    for ir in i_res:\n",
    "        if 600 <= duration_to_int(ir[\"duration\"]) <= 2700:\n",
    "            print(f\"adding {ir['title']}\")\n",
    "            links.append(ir[\"link\"])\n",
    "    \n",
    "    return links"
   ]
  },
  {
   "cell_type": "code",
   "execution_count": null,
   "metadata": {},
   "outputs": [],
   "source": []
  },
  {
   "cell_type": "markdown",
   "metadata": {},
   "source": [
    "## Gather Links"
   ]
  },
  {
   "cell_type": "code",
   "execution_count": null,
   "metadata": {},
   "outputs": [],
   "source": [
    "bl = query_builder(\"Bhoop\")"
   ]
  },
  {
   "cell_type": "code",
   "execution_count": null,
   "metadata": {},
   "outputs": [],
   "source": [
    "bl2 = query_builder(\"Bhoopali\")"
   ]
  },
  {
   "cell_type": "code",
   "execution_count": null,
   "metadata": {},
   "outputs": [],
   "source": [
    "mbl = query_builder(\"भूपाली\")"
   ]
  },
  {
   "cell_type": "code",
   "execution_count": null,
   "metadata": {},
   "outputs": [],
   "source": []
  },
  {
   "cell_type": "code",
   "execution_count": null,
   "metadata": {},
   "outputs": [],
   "source": []
  },
  {
   "cell_type": "markdown",
   "metadata": {},
   "source": [
    "## Get Audios"
   ]
  },
  {
   "cell_type": "code",
   "execution_count": null,
   "metadata": {},
   "outputs": [],
   "source": [
    "urls = []"
   ]
  },
  {
   "cell_type": "code",
   "execution_count": null,
   "metadata": {},
   "outputs": [],
   "source": [
    "for i in urls:\n",
    "    command = \"yt-dlp\" + \"https://www.youtube.com/watch?v=n0IT7_n4n_U\" + \"-f 'ba' -x --audio-format 'mp3' -P raagdata/\"\n",
    "    result = subprocess.run(command, shell=True, capture_output=True)\n",
    "    print(result.stdout)\n",
    "    print(result.stderr)"
   ]
  },
  {
   "cell_type": "code",
   "execution_count": null,
   "metadata": {},
   "outputs": [],
   "source": []
  },
  {
   "cell_type": "markdown",
   "metadata": {},
   "source": [
    "## Get Chunks"
   ]
  },
  {
   "cell_type": "code",
   "execution_count": null,
   "metadata": {},
   "outputs": [],
   "source": [
    "\"\"\"\n",
    "1. Heuristic to sample within spans\n",
    "2. Confirm that this is not speech\n",
    "3. Good file naming\n",
    "4. Carry over some metadata from the youtube search..\n",
    "    This will be very important for credit attribution!!\n",
    "\"\"\""
   ]
  },
  {
   "cell_type": "code",
   "execution_count": null,
   "metadata": {},
   "outputs": [],
   "source": []
  },
  {
   "cell_type": "code",
   "execution_count": null,
   "metadata": {},
   "outputs": [],
   "source": []
  }
 ],
 "metadata": {
  "kernelspec": {
   "display_name": "icm-shruti-analysis-XL3d-GDY-py3.11",
   "language": "python",
   "name": "python3"
  },
  "language_info": {
   "codemirror_mode": {
    "name": "ipython",
    "version": 3
   },
   "file_extension": ".py",
   "mimetype": "text/x-python",
   "name": "python",
   "nbconvert_exporter": "python",
   "pygments_lexer": "ipython3",
   "version": "3.11.6"
  }
 },
 "nbformat": 4,
 "nbformat_minor": 2
}
